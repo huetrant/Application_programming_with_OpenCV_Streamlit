{
 "cells": [
  {
   "cell_type": "code",
   "execution_count": 1,
   "metadata": {},
   "outputs": [],
   "source": [
    "%load_ext autoreload\n",
    "%autoreload 2"
   ]
  },
  {
   "cell_type": "code",
   "execution_count": 2,
   "metadata": {},
   "outputs": [],
   "source": [
    "import sys\n",
    "import os\n",
    "import numpy as np\n",
    "import cv2\n",
    "\n",
    "\n",
    "sys.path.append(os.path.abspath(\"..\"))"
   ]
  },
  {
   "cell_type": "code",
   "execution_count": 1,
   "metadata": {},
   "outputs": [
    {
     "name": "stdout",
     "output_type": "stream",
     "text": [
      "[WinError 2] The system cannot find the file specified: '../Application_programming_with_OpenCV_Streamlit'\n",
      "c:\\Users\\ACER FPT\\Documents\\Application_programming_with_OpenCV_Streamlit\\notebooks\n"
     ]
    },
    {
     "name": "stderr",
     "output_type": "stream",
     "text": [
      "C:\\Users\\ACER FPT\\AppData\\Roaming\\Python\\Python310\\site-packages\\IPython\\core\\magics\\osm.py:393: UserWarning: This is now an optional IPython functionality, using bookmarks requires you to install the `pickleshare` library.\n",
      "  bkms = self.shell.db.get('bookmarks', {})\n"
     ]
    }
   ],
   "source": [
    "%cd ../Application_programming_with_OpenCV_Streamlit"
   ]
  },
  {
   "cell_type": "code",
   "execution_count": 10,
   "metadata": {},
   "outputs": [],
   "source": [
    "DATASET_DIR  = \".\\Application_programming_with_OpenCV_Streamlit\\data\\semantic_keypoint_detection\\synthetic_shapes_datasets\"\n",
    "\n",
    "DATA_TYPES  = [\n",
    "    os.path.join(DATASET_DIR, \"draw_checkerboard\"),\n",
    "    os.path.join(DATASET_DIR, \"draw_cube\"),\n",
    "    os.path.join(DATASET_DIR, \"draw_ellipses\"),\n",
    "    os.path.join(DATASET_DIR, \"draw_lines\"),\n",
    "    os.path.join(DATASET_DIR, \"draw_multiple_polygons\"),\n",
    "    os.path.join(DATASET_DIR, \"draw_polygon\"),\n",
    "    os.path.join(DATASET_DIR, \"draw_star\"),\n",
    "    os.path.join(DATASET_DIR, \"draw_stripes\"),\n",
    "]"
   ]
  },
  {
   "cell_type": "code",
   "execution_count": null,
   "metadata": {},
   "outputs": [],
   "source": [
    "def calculate_precision_recall(ground_truth_points: np.ndarray, predicted_points: np.ndarray, distance_threshold=3):\n",
    "\n",
    "    # Nếu không có điểm nào trong ground truth hoặc dự đoán, trả về (0, 0)\n",
    "    if len(ground_truth_points) == 0 or len(predicted_points) == 0:\n",
    "        return (0, 0)\n",
    "\n",
    "    true_positive, false_negative, false_positive = 0, 0, 0\n",
    "\n",
    "    # Đếm true positives và false positives\n",
    "    for predicted_point in predicted_points:\n",
    "        distances = np.linalg.norm(ground_truth_points - predicted_point, axis=1)\n",
    "        if np.any(distances <= distance_threshold):\n",
    "            true_positive += 1\n",
    "        else:\n",
    "            false_positive += 1\n",
    "\n",
    "    # Đếm false negatives\n",
    "    for ground_truth_point in ground_truth_points:\n",
    "        distances = np.linalg.norm(predicted_points - ground_truth_point, axis=1)\n",
    "        if not np.any(distances <= distance_threshold):\n",
    "            false_negative += 1\n",
    "\n",
    "    # Tính toán precision và recall\n",
    "    if true_positive == 0:\n",
    "        return (0, 0)\n",
    "\n",
    "    precision = true_positive / (true_positive + false_positive)\n",
    "    recall = true_positive / (true_positive + false_negative)\n",
    "\n",
    "    return (precision, recall)"
   ]
  },
  {
   "cell_type": "code",
   "execution_count": 14,
   "metadata": {},
   "outputs": [],
   "source": [
    "# Tạo các đối tượng SIFT và ORB\n",
    "sift_detector = cv2.SIFT_create()\n",
    "orb_detector = cv2.ORB_create()\n",
    "\n",
    "# Danh sách lưu kết quả Precision và Recall cho từng loại hình dạng\n",
    "precision_recall_sift = []\n",
    "precision_recall_orb = []\n",
    "\n",
    "for shape_index in range(8):\n",
    "    precision_recall_sift_shape = []\n",
    "    precision_recall_orb_shape = []\n",
    "    for image_index in range(500):\n",
    "        # Tải ảnh và điểm thực tế từ thư mục tương ứng\n",
    "        image_path = os.path.join(DATA_TYPES[shape_index], \"images\", f\"{image_index}.png\")\n",
    "        ground_truth_path = os.path.join(DATA_TYPES[shape_index], \"points\", f\"{image_index}.npy\")\n",
    "        \n",
    "        image = cv2.imread(image_path)\n",
    "        ground_truth = np.load(ground_truth_path)\n",
    "        gray_image = cv2.cvtColor(image, cv2.COLOR_BGR2GRAY)\n",
    "\n",
    "        # Phát hiện điểm đặc trưng bằng SIFT và ORB\n",
    "        detected_sift = sift_detector.detect(gray_image, None)\n",
    "        detected_orb = orb_detector.detect(gray_image, None)\n",
    "\n",
    "        # Chuyển đổi điểm phát hiện thành mảng numpy\n",
    "        pred_sift = np.array([[kp.pt[1], kp.pt[0]] for kp in detected_sift])\n",
    "        pred_orb = np.array([[kp.pt[1], kp.pt[0]] for kp in detected_orb])\n",
    "\n",
    "        # Tính Precision và Recall\n",
    "        precision_recall_sift_shape.append(calculate_precision_recall(ground_truth, pred_sift))\n",
    "        precision_recall_orb_shape.append(calculate_precision_recall(ground_truth, pred_orb))\n",
    "\n",
    "    precision_recall_sift.append(precision_recall_sift_shape)\n",
    "    precision_recall_orb.append(precision_recall_orb_shape)\n"
   ]
  },
  {
   "cell_type": "code",
   "execution_count": 15,
   "metadata": {},
   "outputs": [
    {
     "name": "stdout",
     "output_type": "stream",
     "text": [
      "Kích thước của precision_recall_sift: (8, 500, 2)\n",
      "Kích thước của precision_recall_orb: (8, 500, 2)\n"
     ]
    }
   ],
   "source": [
    "results_dir = \".\\Application_programming_with_OpenCV_Streamlit\\data\\semantic_keypoint_detection\"\n",
    "\n",
    "# Lưu kết quả Precision và Recall cho SIFT và ORB vào file .npy\n",
    "np.save(os.path.join(results_dir, \"precision_recall_sift.npy\"), precision_recall_sift)\n",
    "np.save(os.path.join(results_dir, \"precision_recall_orb.npy\"), precision_recall_orb)\n",
    "\n",
    "# In kích thước của các mảng kết quả để kiểm tra\n",
    "print(\"Kích thước của precision_recall_sift:\", np.shape(precision_recall_sift))\n",
    "print(\"Kích thước của precision_recall_orb:\", np.shape(precision_recall_orb))\n"
   ]
  }
 ],
 "metadata": {
  "kernelspec": {
   "display_name": "Python 3",
   "language": "python",
   "name": "python3"
  },
  "language_info": {
   "codemirror_mode": {
    "name": "ipython",
    "version": 3
   },
   "file_extension": ".py",
   "mimetype": "text/x-python",
   "name": "python",
   "nbconvert_exporter": "python",
   "pygments_lexer": "ipython3",
   "version": "3.10.8"
  }
 },
 "nbformat": 4,
 "nbformat_minor": 2
}
