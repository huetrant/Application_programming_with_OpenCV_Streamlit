{
 "cells": [
  {
   "cell_type": "code",
   "execution_count": 1,
   "metadata": {},
   "outputs": [],
   "source": [
    "%load_ext autoreload\n",
    "%autoreload 2"
   ]
  },
  {
   "cell_type": "code",
   "execution_count": 1,
   "metadata": {},
   "outputs": [
    {
     "ename": "ModuleNotFoundError",
     "evalue": "No module named 'utils'",
     "output_type": "error",
     "traceback": [
      "\u001b[1;31m---------------------------------------------------------------------------\u001b[0m",
      "\u001b[1;31mModuleNotFoundError\u001b[0m                       Traceback (most recent call last)",
      "Cell \u001b[1;32mIn[1], line 4\u001b[0m\n\u001b[0;32m      2\u001b[0m \u001b[38;5;28;01mimport\u001b[39;00m \u001b[38;5;21;01mnumpy\u001b[39;00m \u001b[38;5;28;01mas\u001b[39;00m \u001b[38;5;21;01mnp\u001b[39;00m\n\u001b[0;32m      3\u001b[0m \u001b[38;5;28;01mimport\u001b[39;00m \u001b[38;5;21;01mos\u001b[39;00m\n\u001b[1;32m----> 4\u001b[0m \u001b[38;5;28;01mfrom\u001b[39;00m \u001b[38;5;21;01mutils\u001b[39;00m\u001b[38;5;21;01m.\u001b[39;00m\u001b[38;5;21;01msemantic_keypoint_detection\u001b[39;00m \u001b[38;5;28;01mimport\u001b[39;00m evaluate_shape_precision_recall\n\u001b[0;32m      6\u001b[0m \u001b[38;5;66;03m# Khởi tạo các mô hình phát hiện điểm đặc trưng SIFT và ORB\u001b[39;00m\n\u001b[0;32m      7\u001b[0m sift_detector \u001b[38;5;241m=\u001b[39m cv2\u001b[38;5;241m.\u001b[39mSIFT_create()\n",
      "\u001b[1;31mModuleNotFoundError\u001b[0m: No module named 'utils'"
     ]
    }
   ],
   "source": [
    "import cv2\n",
    "import numpy as np\n",
    "import os\n",
    "from utils.semantic_keypoint_detection import evaluate_shape_precision_recall\n",
    "\n",
    "# Khởi tạo các mô hình phát hiện điểm đặc trưng SIFT và ORB\n",
    "sift_detector = cv2.SIFT_create()\n",
    "orb_detector = cv2.ORB_create()\n",
    "\n",
    "# Danh sách để lưu Precision và Recall cho từng loại hình dạng với SIFT và ORB\n",
    "precision_recall_sift = []\n",
    "precision_recall_orb = []\n",
    "\n",
    "# Tính Precision và Recall cho từng loại hình dạng (có 8 loại)\n",
    "for shape_type_index in range(8):\n",
    "    # Tính toán Precision và Recall cho loại hình dạng sử dụng mô hình SIFT\n",
    "    precision_recall_sift.append(evaluate_shape_precision_recall(shape_type_index, sift_detector))\n",
    "    \n",
    "    # Tính toán Precision và Recall cho loại hình dạng sử dụng mô hình ORB\n",
    "    precision_recall_orb.append(evaluate_shape_precision_recall(shape_type_index, orb_detector))\n",
    "\n",
    "# Đường dẫn thư mục lưu kết quả\n",
    "results_dir = \"./data/semantic_keypoint_detection\"\n",
    "\n",
    "# Lưu kết quả Precision và Recall cho SIFT và ORB vào file .npy\n",
    "np.save(os.path.join(results_dir, \"precision_recall_sift.npy\"), precision_recall_sift)\n",
    "np.save(os.path.join(results_dir, \"precision_recall_orb.npy\"), precision_recall_orb)\n",
    "\n",
    "# In kích thước của các mảng kết quả để kiểm tra\n",
    "print(\"Kích thước của precision_recall_sift:\", np.shape(precision_recall_sift))\n",
    "print(\"Kích thước của precision_recall_orb:\", np.shape(precision_recall_orb))\n"
   ]
  }
 ],
 "metadata": {
  "kernelspec": {
   "display_name": "Python 3",
   "language": "python",
   "name": "python3"
  },
  "language_info": {
   "codemirror_mode": {
    "name": "ipython",
    "version": 3
   },
   "file_extension": ".py",
   "mimetype": "text/x-python",
   "name": "python",
   "nbconvert_exporter": "python",
   "pygments_lexer": "ipython3",
   "version": "3.10.8"
  }
 },
 "nbformat": 4,
 "nbformat_minor": 2
}
