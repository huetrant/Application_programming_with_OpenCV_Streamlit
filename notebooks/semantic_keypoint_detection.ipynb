{
 "cells": [
  {
   "cell_type": "code",
   "execution_count": 1,
   "metadata": {},
   "outputs": [],
   "source": [
    "%load_ext autoreload\n",
    "%autoreload 2"
   ]
  },
  {
   "cell_type": "code",
   "execution_count": 12,
   "metadata": {},
   "outputs": [],
   "source": [
    "import sys\n",
    "import os\n",
    "import numpy as np\n",
    "import cv2\n",
    "\n",
    "\n",
    "sys.path.append(os.path.abspath(\"..\"))"
   ]
  },
  {
   "cell_type": "code",
   "execution_count": 33,
   "metadata": {},
   "outputs": [],
   "source": [
    "DATA_DIR  = \".\\Application_programming_with_OpenCV_Streamlit\\data\\semantic_keypoint_detection\\synthetic_shapes_datasets\"\n",
    "\n",
    "DATA_TYPES  = [\n",
    "    os.path.join(DATA_DIR, \"draw_checkerboard\"),\n",
    "    os.path.join(DATA_DIR, \"draw_cube\"),\n",
    "    os.path.join(DATA_DIR, \"draw_ellipses\"),\n",
    "    os.path.join(DATA_DIR, \"draw_lines\"),\n",
    "    os.path.join(DATA_DIR, \"draw_multiple_polygons\"),\n",
    "    os.path.join(DATA_DIR, \"draw_polygon\"),\n",
    "    os.path.join(DATA_DIR, \"draw_star\"),\n",
    "    os.path.join(DATA_DIR, \"draw_stripes\"),\n",
    "]"
   ]
  },
  {
   "cell_type": "code",
   "execution_count": 9,
   "metadata": {},
   "outputs": [],
   "source": [
    "def calculate_precision_recall(true_points: np.ndarray, predicted_points: np.ndarray):\n",
    "    true_positive, false_positive, false_negative = 0, 0, 0\n",
    "\n",
    "    # Duyệt qua từng điểm thực để kiểm tra có điểm dự đoán tương ứng gần đúng hay không\n",
    "    for point in true_points:\n",
    "        if predicted_points.shape[0] > 0 and np.any(\n",
    "            np.linalg.norm(predicted_points - point, axis=1) <= 5\n",
    "        ):\n",
    "            true_positive += 1\n",
    "        else:\n",
    "            false_negative += 1\n",
    "\n",
    "    # Duyệt qua từng điểm dự đoán để xác định các điểm không có điểm thực tương ứng gần đúng\n",
    "    for pred_point in predicted_points:\n",
    "        if true_points.shape[0] == 0 or not np.any(\n",
    "            np.linalg.norm(true_points - pred_point, axis=1) <= 5\n",
    "        ):\n",
    "            false_positive += 1\n",
    "\n",
    "    # Tính Precision và Recall\n",
    "    precision = true_positive / (true_positive + false_positive) if (true_positive + false_positive) > 0 else 0\n",
    "    recall = true_positive / (true_positive + false_negative) if (true_positive + false_negative) > 0 else 0\n",
    "    return precision, recall"
   ]
  },
  {
   "cell_type": "code",
   "execution_count": 34,
   "metadata": {},
   "outputs": [],
   "source": [
    "\n",
    "sift = cv2.SIFT_create()\n",
    "orb = cv2.ORB_create()\n",
    "# Hàm tính Precision và Recall cho một loại hình dạng\n",
    "precision_recall_sift = []\n",
    "precision_recall_orb = []\n",
    "\n",
    "for i in range(8):\n",
    "    pr_sift, pr_orb = [], []\n",
    "    for j in range(500):\n",
    "        # Tải điểm thực và ảnh từ thư mục tương ứng\n",
    "        image = cv2.imread(os.path.join(DATA_TYPES[i], \"images\", f\"{j}.png\"))\n",
    "        ground_truth = np.load(os.path.join(DATA_TYPES[i], \"points\", f\"{j}.npy\"))\n",
    "        gray = cv2.cvtColor(image, cv2.COLOR_BGR2GRAY)\n",
    "\n",
    "        pred_sift = sift.detect(gray, None)\n",
    "        pref_orb = orb.detect(gray, None)\n",
    "\n",
    "        pred_sift = np.array([[kp.pt[1], kp.pt[0]] for kp in pred_sift])\n",
    "        pref_orb = np.array([[kp.pt[1], kp.pt[0]] for kp in pref_orb])\n",
    "\n",
    "        pr_sift.append(calculate_precision_recall(ground_truth, pred_sift))\n",
    "        pr_orb.append(calculate_precision_recall(ground_truth, pref_orb))\n",
    "\n",
    "    precision_recall_sift.append(pr_sift)\n",
    "    precision_recall_orb.append(pr_orb)"
   ]
  },
  {
   "cell_type": "code",
   "execution_count": 36,
   "metadata": {},
   "outputs": [
    {
     "name": "stdout",
     "output_type": "stream",
     "text": [
      "Kích thước của precision_recall_sift: (8, 500, 2)\n",
      "Kích thước của precision_recall_orb: (8, 500, 2)\n"
     ]
    }
   ],
   "source": [
    "results_dir = \".\\Application_programming_with_OpenCV_Streamlit\\data\\semantic_keypoint_detection\"\n",
    "\n",
    "# Lưu kết quả Precision và Recall cho SIFT và ORB vào file .npy\n",
    "np.save(os.path.join(results_dir, \"precision_recall_sift.npy\"), precision_recall_sift)\n",
    "np.save(os.path.join(results_dir, \"precision_recall_orb.npy\"), precision_recall_orb)\n",
    "\n",
    "# In kích thước của các mảng kết quả để kiểm tra\n",
    "print(\"Kích thước của precision_recall_sift:\", np.shape(precision_recall_sift))\n",
    "print(\"Kích thước của precision_recall_orb:\", np.shape(precision_recall_orb))\n"
   ]
  }
 ],
 "metadata": {
  "kernelspec": {
   "display_name": "Python 3",
   "language": "python",
   "name": "python3"
  },
  "language_info": {
   "codemirror_mode": {
    "name": "ipython",
    "version": 3
   },
   "file_extension": ".py",
   "mimetype": "text/x-python",
   "name": "python",
   "nbconvert_exporter": "python",
   "pygments_lexer": "ipython3",
   "version": "3.10.8"
  }
 },
 "nbformat": 4,
 "nbformat_minor": 2
}
