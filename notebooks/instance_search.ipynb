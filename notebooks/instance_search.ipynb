{
 "cells": [
  {
   "cell_type": "code",
   "execution_count": null,
   "metadata": {},
   "outputs": [],
   "source": [
    "%load_ext autoreload\n",
    "%autoreload 2"
   ]
  },
  {
   "cell_type": "code",
   "execution_count": 5,
   "metadata": {},
   "outputs": [
    {
     "name": "stdout",
     "output_type": "stream",
     "text": [
      "c:\\Users\n"
     ]
    },
    {
     "name": "stderr",
     "output_type": "stream",
     "text": [
      "C:\\Users\\ACER FPT\\AppData\\Roaming\\Python\\Python310\\site-packages\\IPython\\core\\magics\\osm.py:417: UserWarning: This is now an optional IPython functionality, setting dhist requires you to install the `pickleshare` library.\n",
      "  self.shell.db['dhist'] = compress_dhist(dhist)[-100:]\n"
     ]
    }
   ],
   "source": [
    "%cd ../.."
   ]
  },
  {
   "cell_type": "code",
   "execution_count": null,
   "metadata": {},
   "outputs": [],
   "source": []
  },
  {
   "cell_type": "code",
   "execution_count": 17,
   "metadata": {},
   "outputs": [
    {
     "name": "stdout",
     "output_type": "stream",
     "text": [
      "Current directory: C:\\Users\\ACER FPT\\Documents\\Application_programming_with_OpenCV_Streamlit\n",
      "Current directory: C:\\Users\\ACER FPT\\Documents\\Application_programming_with_OpenCV_Streamlit\n"
     ]
    }
   ],
   "source": [
    "import os\n",
    "\n",
    "\n",
    "# Change the directory with properly escaped backslashes or forward slashes\n",
    "os.chdir(r\"C:\\Users\\ACER FPT\\Documents\\Application_programming_with_OpenCV_Streamlit\")\n",
    "\n",
    "# Print the current working directory to confirm\n",
    "print(\"Current directory:\", os.getcwd())\n",
    "\n",
    "# Print the current working directory to confirm\n",
    "print(\"Current directory:\", os.getcwd())"
   ]
  },
  {
   "cell_type": "code",
   "execution_count": 18,
   "metadata": {},
   "outputs": [],
   "source": [
    "import cv2\n",
    "import numpy as np\n",
    "import matplotlib.pyplot as plt\n",
    "from utils.instance_Search import SP_Model_DIR,Dataset\n",
    "from utils.SuperPoint import SuperPointFrontend"
   ]
  },
  {
   "cell_type": "code",
   "execution_count": 19,
   "metadata": {},
   "outputs": [
    {
     "name": "stderr",
     "output_type": "stream",
     "text": [
      "C:\\Users\\ACER FPT\\Documents\\Application_programming_with_OpenCV_Streamlit\\utils\\SuperPoint.py:149: FutureWarning: You are using `torch.load` with `weights_only=False` (the current default value), which uses the default pickle module implicitly. It is possible to construct malicious pickle data which will execute arbitrary code during unpickling (See https://github.com/pytorch/pytorch/blob/main/SECURITY.md#untrusted-models for more details). In a future release, the default value for `weights_only` will be flipped to `True`. This limits the functions that could be executed during unpickling. Arbitrary objects will no longer be allowed to be loaded via this mode unless they are explicitly allowlisted by the user via `torch.serialization.add_safe_globals`. We recommend you start setting `weights_only=True` for any use case where you don't have full control of the loaded file. Please open an issue on GitHub for any issues related to this experimental feature.\n",
      "  self.net.load_state_dict(torch.load(weights_path,\n"
     ]
    }
   ],
   "source": [
    "superpoint = SuperPointFrontend(\n",
    "      weights_path = os.path.join(SP_Model_DIR, \"superpoint_v1.pth\"),  # Đường dẫn tới tệp trọng số của SuperPoint\n",
    "      nms_dist=4,\n",
    "      conf_thresh=0.015,\n",
    "      nn_thresh=0.7,\n",
    "      )"
   ]
  },
  {
   "cell_type": "code",
   "execution_count": 25,
   "metadata": {},
   "outputs": [],
   "source": [
    "def preprocess_image(image):\n",
    "    if len(image.shape) == 3:  # If image is colored, convert to grayscale\n",
    "        image = cv2.cvtColor(image, cv2.COLOR_BGR2GRAY)\n",
    "    image = image.astype(np.float32) / 255.0  # Normalize to [0, 1]\n",
    "    return image"
   ]
  },
  {
   "cell_type": "code",
   "execution_count": 28,
   "metadata": {},
   "outputs": [],
   "source": [
    "def convert_keypoints(keypoints):\n",
    "    return [cv2.KeyPoint(x=float(kp[0]), y=float(kp[1]), _size=1) for kp in keypoints]\n"
   ]
  },
  {
   "cell_type": "code",
   "execution_count": 32,
   "metadata": {},
   "outputs": [],
   "source": [
    "import cv2\n",
    "import numpy as np\n",
    "import torch"
   ]
  },
  {
   "cell_type": "code",
   "execution_count": null,
   "metadata": {},
   "outputs": [],
   "source": [
    "# Assuming 'Dataset' is defined and points to your dataset folder\n",
    "image_path = os.path.join(Dataset, \"000000000139.jpg\")\n",
    "\n",
    "# Load the image and preprocess it\n",
    "image = cv2.imread(image_path, cv2.IMREAD_GRAYSCALE)  # Use the variable `image_path` here\n",
    "image = image.astype(np.float32) / 255.0  # Normalize to [0, 1]\n",
    "\n",
    "# Run the SuperPoint model\n",
    "keypoints, descriptors, heatmap = superpoint.run(image)\n",
    "\n",
    "# Visualize keypoints\n",
    "if keypoints.shape[1] > 0:\n",
    "    keypoints = keypoints[:2, :].T  # Format as (x, y) for visualization\n",
    "    for pt in keypoints:\n",
    "        cv2.circle(image, (int(pt[0]), int(pt[1])), 5, (0, 255, 0), 2)\n",
    "\n",
    "# Show the image with keypoints\n",
    "cv2.imshow('Keypoints', image)\n",
    "cv2.waitKey(0)\n",
    "cv2.destroyAllWindows()"
   ]
  }
 ],
 "metadata": {
  "kernelspec": {
   "display_name": "Python 3",
   "language": "python",
   "name": "python3"
  },
  "language_info": {
   "codemirror_mode": {
    "name": "ipython",
    "version": 3
   },
   "file_extension": ".py",
   "mimetype": "text/x-python",
   "name": "python",
   "nbconvert_exporter": "python",
   "pygments_lexer": "ipython3",
   "version": "3.10.8"
  }
 },
 "nbformat": 4,
 "nbformat_minor": 2
}
